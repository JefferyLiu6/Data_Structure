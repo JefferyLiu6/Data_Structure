class HashTable:
    def __init__(self, size=10):
        """Initialize the hash table with a fixed size."""
        self.size = size
        self.table = [[] for _ in range(size)]  # Create a list of empty lists for chaining
